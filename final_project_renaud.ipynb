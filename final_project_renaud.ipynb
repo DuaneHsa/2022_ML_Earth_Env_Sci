{
  "nbformat": 4,
  "nbformat_minor": 0,
  "metadata": {
    "colab": {
      "name": "final_project_renaud.ipynb",
      "provenance": [],
      "collapsed_sections": [],
      "authorship_tag": "ABX9TyMtalvR8XBwaatGLERlHbCW",
      "include_colab_link": true
    },
    "kernelspec": {
      "name": "python3",
      "display_name": "Python 3"
    },
    "language_info": {
      "name": "python"
    }
  },
  "cells": [
    {
      "cell_type": "markdown",
      "metadata": {
        "id": "view-in-github",
        "colab_type": "text"
      },
      "source": [
        "<a href=\"https://colab.research.google.com/github/DuaneHsa/2022_ML_Earth_Env_Sci/blob/main/final_project_renaud.ipynb\" target=\"_parent\"><img src=\"https://colab.research.google.com/assets/colab-badge.svg\" alt=\"Open In Colab\"/></a>"
      ]
    },
    {
      "cell_type": "code",
      "execution_count": 1,
      "metadata": {
        "id": "ZzP3LUwJKHiE"
      },
      "outputs": [],
      "source": [
        "import pandas as pd\n",
        "import numpy as np\n",
        "import seaborn as sns\n",
        "import matplotlib.pyplot as plt\n",
        "\n",
        "%matplotlib inline\n",
        "\n",
        "from sklearn import preprocessing\n",
        "from sklearn.cluster import KMeans as KMeans\n",
        "from sklearn.model_selection import train_test_split\n",
        "from sklearn.preprocessing import MinMaxScaler\n",
        "from yellowbrick.classifier import ClassificationReport\n",
        "from sklearn.linear_model import LogisticRegression\n",
        "from sklearn.metrics import roc_auc_score\n",
        "from sklearn.metrics import roc_curve\n",
        "from sklearn.neighbors import KNeighborsClassifier\n",
        "from sklearn.cluster import KMeans\n",
        "\n",
        "from yellowbrick.cluster import KElbowVisualizer\n",
        "from yellowbrick.cluster import SilhouetteVisualizer\n",
        "from yellowbrick.datasets import load_nfl\n",
        "\n",
        "from mpl_toolkits.mplot3d import axes3d \n",
        "\n",
        "\n",
        "from google.colab import drive\n"
      ]
    },
    {
      "cell_type": "code",
      "source": [
        "drive.mount('/content/drive')\n",
        "!ls /content/drive/\n",
        "df = pd.read_csv('/content/drive/MyDrive/01_UNIL/00_COURS_UNIL/Machine_Learning/ML_project/Plume_reno.csv',header=0)\n",
        "pd.set_option('precision', 2)"
      ],
      "metadata": {
        "id": "rq9BBhyt730a",
        "colab": {
          "base_uri": "https://localhost:8080/"
        },
        "outputId": "2c399413-15ba-4904-ed7f-8fb03723f740"
      },
      "execution_count": 2,
      "outputs": [
        {
          "output_type": "stream",
          "name": "stdout",
          "text": [
            "Mounted at /content/drive\n",
            "MyDrive  Othercomputers\n"
          ]
        }
      ]
    },
    {
      "cell_type": "code",
      "source": [
        "#df1 = df.pivot(index='time', columns='pol', values='conc')\n",
        "#pol_name = df['pol'].unique() # unique polutant name vector\n",
        "#pol_name.sort()\n",
        "#np.wide_to_long(df,['P'], i = ['time','loc','z'], j ='C')  # P is new polutant column,  and C is new concentration column. (but not working...)\n",
        "#df['time'] = df['time'].astype(str)+ df['loc'].astype(str)\n",
        "#df['time'] = df['time'].astype(int)\n",
        "#df.drop('loc', inplace=True, axis=1)\n",
        "#df = df.groupby((['time','pol']), as_index=False)['conc'].mean()\n",
        "#(['col5','col2'])\n",
        "#df['conc'].fillna(0, inplace=True)"
      ],
      "metadata": {
        "id": "bU1Ofa2kZgCY"
      },
      "execution_count": 3,
      "outputs": []
    },
    {
      "cell_type": "code",
      "source": [
        "# data arrangement\n",
        "df['conc'].fillna(0, inplace=True)\n",
        "df['pol'].replace({'Atenolol': 1, 'Atrazin': 2, 'Azithromycin':3,\t'Benzotriazol':4,\t'Bezafibrat':5,\t'Carbamazepin':6, 'Carbendazim':7,\t'Chloridazon':8,\t'Ciprofloxacin':9,\t'Clarithromycin':10,\t'Clindamycin':11,\t'Clofibric acid':12, 'Diclofenac':13, 'Diuron':14,\t'Gabapentin':15,\t'Gemfibrocil':16,\t'Iopamidol':17,\t'IPBC':18,\t'Irgarol':19,\t'Isoproturon':20, 'Ketoprofen':21,\t'Mecoprop':22,\t'Mefenamic acid':23,\t'Methylbenzotriazol':24,\t'Metoprolol':25,\t'Metronidazol':26,\t'Naproxen':27,\t'Norfloxacin':28,\t'Ofloxacin':29,\t'Paracetamol':30,\t'Primidon':31,'Propiconazol':32,\t'Propranolol':33,\t'Simvastatin':34,\t'Sotalol':35,\t'Sulfamethoxazol':36,\t'Terbutryn':37,\t'Trimethoprim':38}, inplace=True)\n",
        "df['pol'] = df['pol'].astype(int)\n"
      ],
      "metadata": {
        "id": "-9P0Mc7YSRb9"
      },
      "execution_count": 4,
      "outputs": []
    },
    {
      "cell_type": "code",
      "source": [
        "\n",
        "#clustering  K-means\n",
        "clusternumber = 5\n",
        "km = KMeans(n_clusters=clusternumber,init='k-means++',max_iter=1000, random_state=42)\n",
        "y_predicted = km.fit_predict(df)\n",
        "df['cluster']=y_predicted\n",
        "X = df.drop(['conc'], axis=1)\n",
        "y = df['conc']\n",
        "X_train, X_test, y_train, y_test = train_test_split(X, y,test_size = 0.2,random_state = 2)\n",
        "\n"
      ],
      "metadata": {
        "id": "6_m0ESySXj2N"
      },
      "execution_count": 5,
      "outputs": []
    },
    {
      "cell_type": "code",
      "source": [
        "\n",
        "#  clustering model and visualizer\n",
        "model = KMeans(clusternumber, random_state=42)\n",
        "visualizer = SilhouetteVisualizer(model, colors='yellowbrick')\n",
        "\n",
        "visualizer.fit(X)  \n",
        "\n",
        "visualizer.show() "
      ],
      "metadata": {
        "colab": {
          "base_uri": "https://localhost:8080/",
          "height": 312
        },
        "id": "CuoS8Kjsm_94",
        "outputId": "72e312a7-a0b0-4b17-9388-5eef875d847c"
      },
      "execution_count": 6,
      "outputs": [
        {
          "output_type": "display_data",
          "data": {
            "text/plain": [
              "<Figure size 432x288 with 1 Axes>"
            ],
            "image/png": "[encoded data removed]"
          },
          "metadata": {
            "needs_background": "light"
          }
        },
        {
          "output_type": "execute_result",
          "data": {
            "text/plain": [
              "<matplotlib.axes._subplots.AxesSubplot at 0x7f68ec279490>"
            ]
          },
          "metadata": {},
          "execution_count": 6
        }
      ]
    },
    {
      "cell_type": "code",
      "source": [
        "# number of cluster determination\n",
        "\n",
        "#model = KMeans()\n",
        "\n",
        "# k is range of number of clusters.\n",
        "visualizer = KElbowVisualizer(model, k=(2,6),metric='silhouette', timings= True,method = 'wcss')\n",
        "visualizer.fit(X)        # Fit the data to the visualizer\n",
        "visualizer.show()        # Finalize and render the figure\n",
        "\n",
        "\n",
        "\n"
      ],
      "metadata": {
        "id": "LP4X31VzjVu0",
        "colab": {
          "base_uri": "https://localhost:8080/",
          "height": 312
        },
        "outputId": "ab956a63-76cd-43b3-dcd7-a992e4019d79"
      },
      "execution_count": 7,
      "outputs": [
        {
          "output_type": "display_data",
          "data": {
            "text/plain": [
              "<Figure size 432x288 with 2 Axes>"
            ],
            "image/png": "[encoded data removed]"
          },
          "metadata": {}
        },
        {
          "output_type": "execute_result",
          "data": {
            "text/plain": [
              "<matplotlib.axes._subplots.AxesSubplot at 0x7f68e4d37310>"
            ]
          },
          "metadata": {},
          "execution_count": 7
        }
      ]
    },
    {
      "cell_type": "code",
      "source": [
        "print(km.inertia_)\n"
      ],
      "metadata": {
        "id": "-OLEpAqnNd-C",
        "colab": {
          "base_uri": "https://localhost:8080/"
        },
        "outputId": "1e03bc00-7810-4f75-a32a-091c2bc1d13d"
      },
      "execution_count": 8,
      "outputs": [
        {
          "output_type": "stream",
          "name": "stdout",
          "text": [
            "313619.7500214564\n"
          ]
        }
      ]
    },
    {
      "cell_type": "code",
      "source": [
        "\n",
        "df1 = df[df.cluster==0]\n",
        "df2 = df[df.cluster==1]\n",
        "df3 = df[df.cluster==2]\n",
        "df4 = df[df.cluster==3]\n",
        "df5 = df[df.cluster==4]\n",
        "\n",
        "\n",
        "plt.scatter(df1.pol,df1.conc,color='green')\n",
        "plt.scatter(df2.pol,df2.conc,color='red')\n",
        "plt.scatter(df3.pol,df3.conc,color='black')\n",
        "plt.scatter(df4.pol,df4.conc,color='yellow')\n",
        "plt.scatter(df5.pol,df5.conc,color='blue')\n",
        "\n",
        "\n",
        "plt.xlabel('pol')\n",
        "plt.ylabel('conc')\n",
        "plt.legend()\n",
        "\n",
        "ax.legend([line1, line2, line3], ['label1', 'label2', 'label3'])\n",
        "\n",
        "\n"
      ],
      "metadata": {
        "colab": {
          "base_uri": "https://localhost:8080/",
          "height": 524
        },
        "id": "lCv4kRRzc8mS",
        "outputId": "efcdabeb-b15a-4ba2-a23b-da0c08a0fe46"
      },
      "execution_count": 9,
      "outputs": [
        {
          "output_type": "stream",
          "name": "stderr",
          "text": [
            "No handles with labels found to put in legend.\n"
          ]
        },
        {
          "output_type": "error",
          "ename": "NameError",
          "evalue": "ignored",
          "traceback": [
            "\u001b[0;31m---------------------------------------------------------------------------\u001b[0m",
            "\u001b[0;31mNameError\u001b[0m                                 Traceback (most recent call last)",
            "\u001b[0;32m<ipython-input-9-11cb3ffb9c24>\u001b[0m in \u001b[0;36m<module>\u001b[0;34m()\u001b[0m\n\u001b[1;32m     18\u001b[0m \u001b[0mplt\u001b[0m\u001b[0;34m.\u001b[0m\u001b[0mlegend\u001b[0m\u001b[0;34m(\u001b[0m\u001b[0;34m)\u001b[0m\u001b[0;34m\u001b[0m\u001b[0;34m\u001b[0m\u001b[0m\n\u001b[1;32m     19\u001b[0m \u001b[0;34m\u001b[0m\u001b[0m\n\u001b[0;32m---> 20\u001b[0;31m \u001b[0max\u001b[0m\u001b[0;34m.\u001b[0m\u001b[0mlegend\u001b[0m\u001b[0;34m(\u001b[0m\u001b[0;34m[\u001b[0m\u001b[0mline1\u001b[0m\u001b[0;34m,\u001b[0m \u001b[0mline2\u001b[0m\u001b[0;34m,\u001b[0m \u001b[0mline3\u001b[0m\u001b[0;34m]\u001b[0m\u001b[0;34m,\u001b[0m \u001b[0;34m[\u001b[0m\u001b[0;34m'label1'\u001b[0m\u001b[0;34m,\u001b[0m \u001b[0;34m'label2'\u001b[0m\u001b[0;34m,\u001b[0m \u001b[0;34m'label3'\u001b[0m\u001b[0;34m]\u001b[0m\u001b[0;34m)\u001b[0m\u001b[0;34m\u001b[0m\u001b[0;34m\u001b[0m\u001b[0m\n\u001b[0m\u001b[1;32m     21\u001b[0m \u001b[0;34m\u001b[0m\u001b[0m\n\u001b[1;32m     22\u001b[0m \u001b[0;34m\u001b[0m\u001b[0m\n",
            "\u001b[0;31mNameError\u001b[0m: name 'ax' is not defined"
          ]
        },
        {
          "output_type": "display_data",
          "data": {
            "text/plain": [
              "<Figure size 432x288 with 1 Axes>"
            ],
            "image/png": "[encoded data removed]"
          },
          "metadata": {
            "needs_background": "light"
          }
        }
      ]
    },
    {
      "cell_type": "code",
      "source": [
        "import matplotlib.pyplot as plt\n",
        "plotcolor = ['red','orange','yellow','green','blue']\n",
        "ax = plt.axes(projection='3d')\n",
        "ax.scatter(df.pol,df.time,df.z, s = df.conc)\n",
        "\n",
        "plt.show()"
      ],
      "metadata": {
        "id": "uKyMfIPIgni7"
      },
      "execution_count": null,
      "outputs": []
    },
    {
      "cell_type": "markdown",
      "source": [
        ""
      ],
      "metadata": {
        "id": "wqjmKaFBdaKj"
      }
    },
    {
      "cell_type": "code",
      "source": [
        " #DBSCAN part---------\n",
        "\n",
        "from sklearn.cluster import DBSCAN\n",
        "from sklearn.preprocessing import StandardScaler\n",
        "from sklearn.preprocessing import normalize\n",
        "from sklearn.decomposition import PCA\n",
        "from sklearn import metrics\n",
        "\n"
      ],
      "metadata": {
        "id": "iCpOlfJKlTZ_"
      },
      "execution_count": null,
      "outputs": []
    },
    {
      "cell_type": "code",
      "source": [
        "df = pd.read_csv('/content/drive/MyDrive/01_UNIL/00_COURS_UNIL/Machine_Learning/ML_project/Plume_reno.csv',header=0)\n",
        "df['conc'].fillna(0, inplace=True)\n",
        "\n",
        "\n",
        "X = df.drop(['conc',], axis=1)\n",
        "y = df['conc']\n",
        "X_train, X_test, y_train, y_test = train_test_split(X, y,test_size = 0.2,random_state = 42)\n",
        "\n",
        "\n",
        "X['pol'].replace({'Atenolol': 1, 'Atrazin': 2, 'Azithromycin':3,\t'Benzotriazol':4,\t'Bezafibrat':5,\t'Carbamazepin':6, 'Carbendazim':7,\t'Chloridazon':8,\t'Ciprofloxacin':9,\t'Clarithromycin':10,\t'Clindamycin':11,\t'Clofibric acid':12, 'Diclofenac':13, 'Diuron':14,\t'Gabapentin':15,\t'Gemfibrocil':16,\t'Iopamidol':17,\t'IPBC':18,\t'Irgarol':19,\t'Isoproturon':20, 'Ketoprofen':21,\t'Mecoprop':22,\t'Mefenamic acid':23,\t'Methylbenzotriazol':24,\t'Metoprolol':25,\t'Metronidazol':26,\t'Naproxen':27,\t'Norfloxacin':28,\t'Ofloxacin':29,\t'Paracetamol':30,\t'Primidon':31,'Propiconazol':32,\t'Propranolol':33,\t'Simvastatin':34,\t'Sotalol':35,\t'Sulfamethoxazol':36,\t'Terbutryn':37,\t'Trimethoprim':38}, inplace=True)\n",
        "X['pol'] = X['pol'].astype(float)\n",
        "  \n",
        "\n",
        "\n",
        "\n",
        "\n",
        "# Scaling the data \n",
        "scaler = StandardScaler()\n",
        "X_scaled = scaler.fit_transform(X)\n",
        "  \n",
        "# Normalizing the data s\n",
        "X_normalized = normalize(X_scaled)\n",
        "  \n",
        "#np to panda\n",
        "X_normalized = pd.DataFrame(X_normalized)\n",
        " \n",
        "\n",
        "pca = PCA(n_components = 2)\n",
        "X_principal = pca.fit_transform(X_normalized)\n",
        "X_principal = pd.DataFrame(X_principal)\n",
        "X_principal.columns = ['P1', 'P2']\n",
        "print(X_principal.head())\n",
        "\n",
        "# Numpy array of all the cluster labels assigned to each data point\n",
        "db= DBSCAN(eps = 0.09, min_samples = 20).fit(X_principal)\n",
        "labels = db.labels_\n",
        "labels_true = df['conc']\n",
        "\n",
        "\n",
        "core_samples_mask = np.zeros_like(db.labels_, dtype=bool)\n",
        "core_samples_mask[db.core_sample_indices_] = True\n",
        "\n",
        "# Number of clusters in labels, ignoring noise if present.\n",
        "n_clusters_ = len(set(labels)) - (1 if -1 in labels else 0)\n",
        "n_noise_ = list(labels).count(-1)\n",
        "\n",
        "print(\"Estimated number of clusters: %d\" % n_clusters_)\n",
        "print(\"Estimated number of noise points: %d\" % n_noise_)\n",
        "print(\"Homogeneity: %0.3f\" % metrics.homogeneity_score(labels_true, labels))\n",
        "print(\"Completeness: %0.3f\" % metrics.completeness_score(labels_true, labels))\n",
        "print(\"V-measure: %0.3f\" % metrics.v_measure_score(labels_true, labels))\n",
        "print(\"Adjusted Rand Index: %0.3f\" % metrics.adjusted_rand_score(labels_true, labels))\n",
        "print(\n",
        "    \"Adjusted Mutual Information: %0.3f\"\n",
        "    % metrics.adjusted_mutual_info_score(labels_true, labels)\n",
        ")\n",
        "print(\"Silhouette Coefficient: %0.3f\" % metrics.silhouette_score(X, labels))\n",
        "\n",
        "import matplotlib.pyplot as plt\n",
        "\n",
        "# Black removed and is used for noise instead.\n",
        "unique_labels = set(labels)\n",
        "colors = [plt.cm.Spectral(each) for each in np.linspace(0, 1, len(unique_labels))]\n",
        "\n",
        "\n",
        "for k, col in zip(unique_labels, colors):\n",
        "    if k == -1:\n",
        "        # Black used for noise.\n",
        "        col = [0, 0, 0, 0.4]\n",
        "\n",
        "\n",
        "\n",
        "    class_member_mask = labels == k\n",
        "\n",
        "    xy = X_normalized[class_member_mask & core_samples_mask]\n",
        "    plt.plot(\n",
        "        xy,\n",
        "        \"o\",\n",
        "        markerfacecolor=tuple(col),\n",
        "        markeredgecolor='k',\n",
        "        markersize=8,\n",
        "    )\n",
        "\n",
        "plt.title(\"Estimated number of clusters: %d\" % n_clusters_)\n",
        "plt.show()"
      ],
      "metadata": {
        "id": "WZgD-6i_QF-3"
      },
      "execution_count": null,
      "outputs": []
    }
  ]
}